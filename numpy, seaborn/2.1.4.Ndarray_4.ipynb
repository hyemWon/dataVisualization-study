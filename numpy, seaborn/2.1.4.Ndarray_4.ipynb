{
 "cells": [
  {
   "cell_type": "code",
   "execution_count": null,
   "metadata": {},
   "outputs": [],
   "source": [
    "import numpy as np\n",
    "\n",
    "arr = np.array([1,2,3,4,5,6,7,8,9]).reshape((3,3))\n",
    "\n",
    "print(\"<arr>\\n\", arr)\n",
    "print(\"<np.amin(arr)>\\n\", np.amin(arr)) \n",
    "print(\"<np.amin(arr, axis = 0)>\\n\", np.amin(arr, axis = 0))\n",
    "print(\"<np.amin(arr, axis = 1)>\\n\", np.amin(arr, axis = 1))"
   ]
  }
 ],
 "metadata": {
  "kernelspec": {
   "display_name": "Python 3",
   "language": "python",
   "name": "python3"
  },
  "language_info": {
   "codemirror_mode": {
    "name": "ipython",
    "version": 3
   },
   "file_extension": ".py",
   "mimetype": "text/x-python",
   "name": "python",
   "nbconvert_exporter": "python",
   "pygments_lexer": "ipython3",
   "version": "3.7.6"
  }
 },
 "nbformat": 4,
 "nbformat_minor": 4
}
