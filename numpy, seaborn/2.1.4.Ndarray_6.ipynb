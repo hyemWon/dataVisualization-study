{
 "cells": [
  {
   "cell_type": "code",
   "execution_count": null,
   "metadata": {},
   "outputs": [],
   "source": [
    "import numpy as np\n",
    "\n",
    "a = np.arange(10).reshape(2,5)\n",
    "b = np.arange(10, 20).reshape(2,5)\n",
    "\n",
    "print(\"<a>\\n\", a)\n",
    "print(\"<b>\\n\", b)\n",
    "print(\"<np.hstack(a,b)>\\n\", np.hstack((a,b)))\n",
    "\n",
    "print(\"<np.concatenate((a,b), 1)>\\n\", np.concatenate((a,b), 1))"
   ]
  }
 ],
 "metadata": {
  "kernelspec": {
   "display_name": "Python 3",
   "language": "python",
   "name": "python3"
  },
  "language_info": {
   "codemirror_mode": {
    "name": "ipython",
    "version": 3
   },
   "file_extension": ".py",
   "mimetype": "text/x-python",
   "name": "python",
   "nbconvert_exporter": "python",
   "pygments_lexer": "ipython3",
   "version": "3.7.6"
  }
 },
 "nbformat": 4,
 "nbformat_minor": 4
}
