{
 "cells": [
  {
   "cell_type": "code",
   "execution_count": 1,
   "metadata": {},
   "outputs": [
    {
     "name": "stdout",
     "output_type": "stream",
     "text": [
      "<a.ndim>\n",
      " 1\n",
      "<a.shape>\n",
      " (3,)\n",
      "<a>\n",
      " [0. 0. 0.]\n",
      "\n",
      "<b.ndim>\n",
      " 2\n",
      "<b.shape>\n",
      " (3, 6)\n",
      "<b>\n",
      " [[0. 0. 0. 0. 0. 0.]\n",
      " [0. 0. 0. 0. 0. 0.]\n",
      " [0. 0. 0. 0. 0. 0.]]\n"
     ]
    }
   ],
   "source": [
    "import numpy as np\n",
    "\n",
    "a = np.zeros(3)\n",
    "print(\"<a.ndim>\\n\", a.ndim)\n",
    "print(\"<a.shape>\\n\", a.shape)\n",
    "print(\"<a>\\n\", a)\n",
    "\n",
    "print()\n",
    "\n",
    "b = np.zeros((3,6))\n",
    "\n",
    "print(\"<b.ndim>\\n\", b.ndim)\n",
    "print(\"<b.shape>\\n\", b.shape)\n",
    "print(\"<b>\\n\", b)\n"
   ]
  },
  {
   "cell_type": "code",
   "execution_count": null,
   "metadata": {},
   "outputs": [],
   "source": []
  }
 ],
 "metadata": {
  "kernelspec": {
   "display_name": "Python 3",
   "language": "python",
   "name": "python3"
  },
  "language_info": {
   "codemirror_mode": {
    "name": "ipython",
    "version": 3
   },
   "file_extension": ".py",
   "mimetype": "text/x-python",
   "name": "python",
   "nbconvert_exporter": "python",
   "pygments_lexer": "ipython3",
   "version": "3.7.6"
  }
 },
 "nbformat": 4,
 "nbformat_minor": 4
}
