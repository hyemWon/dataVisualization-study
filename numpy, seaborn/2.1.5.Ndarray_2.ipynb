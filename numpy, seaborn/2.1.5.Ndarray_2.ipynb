{
 "cells": [
  {
   "cell_type": "code",
   "execution_count": 1,
   "metadata": {},
   "outputs": [
    {
     "name": "stdout",
     "output_type": "stream",
     "text": [
      "<outcome>\n",
      " [5 5 5 2 3 3 4 3 2 6]\n",
      "<type(outcome)>\n",
      " <class 'numpy.ndarray'>\n",
      "<len(outcome)>\n",
      " 10\n",
      "<np.random.randint(2, size=10)>\n",
      " [0 1 1 0 1 1 0 0 0 0]\n",
      "<np.random.randint(1, size=10)>\n",
      " [0 0 0 0 0 0 0 0 0 0]\n",
      "<np.random.randint(5, size=(2,4))>\n",
      " [[1 2 4 4]\n",
      " [4 2 2 0]]\n"
     ]
    }
   ],
   "source": [
    "import numpy as np\n",
    "\n",
    "outcome = np.random.randint(1, 7, size = 10)\n",
    "\n",
    "print(\"<outcome>\\n\", outcome)\n",
    "print(\"<type(outcome)>\\n\", type(outcome))\n",
    "print(\"<len(outcome)>\\n\", len(outcome))\n",
    "print(\"<np.random.randint(2, size=10)>\\n\", np.random.randint(2, size=10))\n",
    "print(\"<np.random.randint(1, size=10)>\\n\", np.random.randint(1, size=10))\n",
    "print(\"<np.random.randint(5, size=(2,4))>\\n\", np.random.randint(5, size=(2,4)))"
   ]
  },
  {
   "cell_type": "code",
   "execution_count": null,
   "metadata": {},
   "outputs": [],
   "source": []
  }
 ],
 "metadata": {
  "kernelspec": {
   "display_name": "Python 3",
   "language": "python",
   "name": "python3"
  },
  "language_info": {
   "codemirror_mode": {
    "name": "ipython",
    "version": 3
   },
   "file_extension": ".py",
   "mimetype": "text/x-python",
   "name": "python",
   "nbconvert_exporter": "python",
   "pygments_lexer": "ipython3",
   "version": "3.7.6"
  }
 },
 "nbformat": 4,
 "nbformat_minor": 4
}
