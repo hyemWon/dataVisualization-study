{
 "cells": [
  {
   "cell_type": "code",
   "execution_count": 1,
   "metadata": {},
   "outputs": [
    {
     "name": "stdout",
     "output_type": "stream",
     "text": [
      "<np.linspace(2.0, 3.0, num=5)>\n",
      " [2.   2.25 2.5  2.75 3.  ]\n",
      "\n",
      "np.linspace(2.0, 3.0, num=5, endpoint = False)>\n",
      " [2.  2.2 2.4 2.6 2.8]\n",
      "\n",
      "np.linspace(2.0, 3.0, num=5, retstep = True)>\n",
      " (array([2.  , 2.25, 2.5 , 2.75, 3.  ]), 0.25)\n",
      "<a[0], type(a[0])> [2.   2.25 2.5  2.75 3.  ] <class 'numpy.ndarray'>\n",
      "<a[1], type(a[1])> 0.25 <class 'numpy.float64'>\n"
     ]
    }
   ],
   "source": [
    "import numpy as np\n",
    "\n",
    "a = np.linspace(2.0, 3.0, num=5)\n",
    "print(\"<np.linspace(2.0, 3.0, num=5)>\\n\", a)\n",
    "print()\n",
    "\n",
    "a = np.linspace(2.0, 3.0, num=5, endpoint = False)\n",
    "print(\"np.linspace(2.0, 3.0, num=5, endpoint = False)>\\n\", a)\n",
    "print()\n",
    "\n",
    "a = np.linspace(2.0, 3.0, num=5, retstep = True)\n",
    "print(\"np.linspace(2.0, 3.0, num=5, retstep = True)>\\n\", a)\n",
    "print(\"<a[0], type(a[0])>\",a[0], type(a[0]))\n",
    "print(\"<a[1], type(a[1])>\",a[1], type(a[1]))"
   ]
  },
  {
   "cell_type": "code",
   "execution_count": null,
   "metadata": {},
   "outputs": [],
   "source": []
  }
 ],
 "metadata": {
  "kernelspec": {
   "display_name": "Python 3",
   "language": "python",
   "name": "python3"
  },
  "language_info": {
   "codemirror_mode": {
    "name": "ipython",
    "version": 3
   },
   "file_extension": ".py",
   "mimetype": "text/x-python",
   "name": "python",
   "nbconvert_exporter": "python",
   "pygments_lexer": "ipython3",
   "version": "3.7.6"
  }
 },
 "nbformat": 4,
 "nbformat_minor": 4
}
