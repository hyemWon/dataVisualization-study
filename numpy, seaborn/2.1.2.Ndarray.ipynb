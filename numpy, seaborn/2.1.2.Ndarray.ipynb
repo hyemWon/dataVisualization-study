{
 "cells": [
  {
   "cell_type": "code",
   "execution_count": 1,
   "metadata": {},
   "outputs": [
    {
     "name": "stdout",
     "output_type": "stream",
     "text": [
      "<x + y>\n",
      " [8 9 3]\n",
      "<x * y>\n",
      " [ 7 20  2]\n",
      "<x - y>\n",
      " [-6  1  1]\n",
      "<x / y>\n",
      " [0.14285714 1.25       2.        ]\n",
      "<x % y>\n",
      " [1 1 0]\n"
     ]
    }
   ],
   "source": [
    "import numpy as np\n",
    "\n",
    "x = np.array([1,5,2])\n",
    "y = np.array([7,4,1])\n",
    "\n",
    "print(\"<x + y>\\n\", x + y)\n",
    "print(\"<x * y>\\n\", x * y)\n",
    "print(\"<x - y>\\n\", x - y)\n",
    "print(\"<x / y>\\n\", x / y)\n",
    "print(\"<x % y>\\n\", x % y)"
   ]
  },
  {
   "cell_type": "code",
   "execution_count": null,
   "metadata": {},
   "outputs": [],
   "source": []
  }
 ],
 "metadata": {
  "kernelspec": {
   "display_name": "Python 3",
   "language": "python",
   "name": "python3"
  },
  "language_info": {
   "codemirror_mode": {
    "name": "ipython",
    "version": 3
   },
   "file_extension": ".py",
   "mimetype": "text/x-python",
   "name": "python",
   "nbconvert_exporter": "python",
   "pygments_lexer": "ipython3",
   "version": "3.7.6"
  }
 },
 "nbformat": 4,
 "nbformat_minor": 4
}
