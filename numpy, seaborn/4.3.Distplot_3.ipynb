{
 "cells": [
  {
   "cell_type": "code",
   "execution_count": null,
   "metadata": {},
   "outputs": [],
   "source": [
    "import numpy as np\n",
    "import pandas as pd\n",
    "import matplotlib as mpl\n",
    "import matplotlib.pyplot as plt\n",
    "import matplotlib.font_manager as fm\n",
    "import seaborn as sns\n",
    "\n",
    "mpl.rcParams['axes.unicode_minus'] = 'False'\n",
    "import matplotlib.font_manager as fm\n",
    "fm.get_fontconfig_fonts()\n",
    "path = 'C:/fonts/NanumGothicExtraBold.ttf'\n",
    "font_name = fm.FontProperties(fname=path).get_name()\n",
    "plt.rc('font', family=font_name)\n",
    "\n",
    "tips = sns.load_dataset('tips')\n",
    "\n",
    "%matplotlib inline\n",
    "ax = plt.subplots()\n",
    "ax = sns.distplot(tips['total_bill'], hist = False)\n",
    "\n",
    "ax.set_title('Total Bill Histogram')"
   ]
  }
 ],
 "metadata": {
  "kernelspec": {
   "display_name": "Python 3",
   "language": "python",
   "name": "python3"
  },
  "language_info": {
   "codemirror_mode": {
    "name": "ipython",
    "version": 3
   },
   "file_extension": ".py",
   "mimetype": "text/x-python",
   "name": "python",
   "nbconvert_exporter": "python",
   "pygments_lexer": "ipython3",
   "version": "3.7.6"
  }
 },
 "nbformat": 4,
 "nbformat_minor": 4
}
