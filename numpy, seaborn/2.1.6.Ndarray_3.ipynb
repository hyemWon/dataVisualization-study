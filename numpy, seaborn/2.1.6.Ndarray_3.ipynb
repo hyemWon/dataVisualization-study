{
 "cells": [
  {
   "cell_type": "code",
   "execution_count": null,
   "metadata": {},
   "outputs": [],
   "source": [
    "import numpy as np\n",
    "\n",
    "x = np.array([-2.1, -1, 1, 1, 4.3, 0.3]).reshape(2,3)\n",
    "\n",
    "print(\"<np.var(x)>\\n\", np.var(x))\n",
    "print(\"<np.var(x, axis = 0)>\\n\", np.var(x, axis = 0))\n",
    "print(\"<np.var(x, axis = 1)>\\n\", np.var(x, axis = 1))"
   ]
  }
 ],
 "metadata": {
  "kernelspec": {
   "display_name": "Python 3",
   "language": "python",
   "name": "python3"
  },
  "language_info": {
   "codemirror_mode": {
    "name": "ipython",
    "version": 3
   },
   "file_extension": ".py",
   "mimetype": "text/x-python",
   "name": "python",
   "nbconvert_exporter": "python",
   "pygments_lexer": "ipython3",
   "version": "3.7.6"
  }
 },
 "nbformat": 4,
 "nbformat_minor": 4
}
