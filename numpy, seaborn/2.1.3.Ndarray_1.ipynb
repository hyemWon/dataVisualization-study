{
 "cells": [
  {
   "cell_type": "code",
   "execution_count": null,
   "metadata": {},
   "outputs": [],
   "source": [
    "import numpy as np\n",
    "\n",
    "l33 = [[1,2,3], [4,5,6], [7,8,9]]\n",
    "np33 = np.array(l33, dtype=int)\n",
    "\n",
    "print(\"<np33.shape>\\n\", np33.shape)\n",
    "print(\"<np33.ndim>\\n\", np33.ndim)\n",
    "print(\"<np33>\\n\", np33)\n",
    "print()\n",
    "\n",
    "print(\"<np33[0]>\\n\", \"first row : \", np33[0])\n",
    "print(\"<np33[: 0]>\\n\", \"first column\", np33[:, 0])"
   ]
  }
 ],
 "metadata": {
  "kernelspec": {
   "display_name": "Python 3",
   "language": "python",
   "name": "python3"
  },
  "language_info": {
   "codemirror_mode": {
    "name": "ipython",
    "version": 3
   },
   "file_extension": ".py",
   "mimetype": "text/x-python",
   "name": "python",
   "nbconvert_exporter": "python",
   "pygments_lexer": "ipython3",
   "version": "3.7.6"
  }
 },
 "nbformat": 4,
 "nbformat_minor": 4
}
