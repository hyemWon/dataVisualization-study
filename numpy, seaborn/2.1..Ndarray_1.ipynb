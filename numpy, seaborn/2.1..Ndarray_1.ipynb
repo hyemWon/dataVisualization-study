{
 "cells": [
  {
   "cell_type": "code",
   "execution_count": 1,
   "metadata": {},
   "outputs": [
    {
     "name": "stdout",
     "output_type": "stream",
     "text": [
      "<npa.size>\n",
      " 9\n",
      "<npa.shape>\n",
      " (3, 3)\n",
      "<len(npa)>\n",
      " 3\n",
      "<npl.size>\n",
      " 7\n",
      "<len(npl)>\n",
      " 7\n",
      "<npl.shape>\n",
      " (7,)\n",
      "<npl.ndim>\n",
      " 1\n"
     ]
    }
   ],
   "source": [
    "import numpy as np\n",
    "\n",
    "npa = np.array([[1, 2, 3], [4, 5, 6], [7, 8, 9]])\n",
    "print (\"<npa.size>\\n\", npa.size)\n",
    "print(\"<npa.shape>\\n\", npa.shape)\n",
    "print (\"<len(npa)>\\n\", len(npa))\n",
    "\n",
    "npl = np.array([1,100, 42, 42, 42, 6, 7])\n",
    "print(\"<npl.size>\\n\", npl.size)\n",
    "print(\"<len(npl)>\\n\", len(npl))\n",
    "print(\"<npl.shape>\\n\", npl.shape)\n",
    "print(\"<npl.ndim>\\n\", npl.ndim)"
   ]
  },
  {
   "cell_type": "code",
   "execution_count": null,
   "metadata": {},
   "outputs": [],
   "source": []
  }
 ],
 "metadata": {
  "kernelspec": {
   "display_name": "Python 3",
   "language": "python",
   "name": "python3"
  },
  "language_info": {
   "codemirror_mode": {
    "name": "ipython",
    "version": 3
   },
   "file_extension": ".py",
   "mimetype": "text/x-python",
   "name": "python",
   "nbconvert_exporter": "python",
   "pygments_lexer": "ipython3",
   "version": "3.7.6"
  }
 },
 "nbformat": 4,
 "nbformat_minor": 4
}
