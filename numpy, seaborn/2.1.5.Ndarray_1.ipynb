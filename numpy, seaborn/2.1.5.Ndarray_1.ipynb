{
 "cells": [
  {
   "cell_type": "code",
   "execution_count": 1,
   "metadata": {},
   "outputs": [
    {
     "name": "stdout",
     "output_type": "stream",
     "text": [
      "<a> [[0.69024357 0.77487684]\n",
      " [0.44419827 0.2977924 ]\n",
      " [0.12214946 0.81678396]]\n",
      "\n",
      "<b> [[[0.43583638 0.62803007 0.90036072]\n",
      "  [0.62229997 0.46345112 0.36184321]\n",
      "  [0.44086247 0.68637358 0.34890739]]\n",
      "\n",
      " [[0.88912642 0.028065   0.42411133]\n",
      "  [0.33295076 0.90946465 0.24196362]\n",
      "  [0.20447777 0.7256552  0.17239164]]\n",
      "\n",
      " [[0.94303798 0.07308159 0.32320798]\n",
      "  [0.11739302 0.17661155 0.38011291]\n",
      "  [0.85206215 0.16177279 0.02633474]]]\n"
     ]
    }
   ],
   "source": [
    "import numpy as np\n",
    "\n",
    "a = np.random.rand(3,2)\n",
    "\n",
    "print(\"<a>\", a)\n",
    "print()\n",
    "\n",
    "b = np.random.rand(3,3,3)\n",
    "print(\"<b>\", b)"
   ]
  },
  {
   "cell_type": "code",
   "execution_count": null,
   "metadata": {},
   "outputs": [],
   "source": []
  }
 ],
 "metadata": {
  "kernelspec": {
   "display_name": "Python 3",
   "language": "python",
   "name": "python3"
  },
  "language_info": {
   "codemirror_mode": {
    "name": "ipython",
    "version": 3
   },
   "file_extension": ".py",
   "mimetype": "text/x-python",
   "name": "python",
   "nbconvert_exporter": "python",
   "pygments_lexer": "ipython3",
   "version": "3.7.6"
  }
 },
 "nbformat": 4,
 "nbformat_minor": 4
}
