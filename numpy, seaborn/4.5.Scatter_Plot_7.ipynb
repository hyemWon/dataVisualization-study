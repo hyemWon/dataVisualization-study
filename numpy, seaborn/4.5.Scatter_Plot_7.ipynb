{
 "cells": [
  {
   "cell_type": "code",
   "execution_count": null,
   "metadata": {},
   "outputs": [],
   "source": [
    "import numpy as np\n",
    "import pandas as pd\n",
    "import matplotlib as mpl\n",
    "import matplotlib.pyplot as plt\n",
    "\n",
    "mpl.rcParams['axes.unicode_minus'] = False\n",
    "\n",
    "import seaborn as sns\n",
    "import matplotlib.font_manager as fm\n",
    "path = 'C:/fonts/NanumGothicExtraBold.ttf'\n",
    "font_name = fm.FontProperties(fname=path).get_name()\n",
    "plt.rc('font', family=font_name)\n",
    "\n",
    "tips = sns.load_dataset('tips')\n",
    "\n",
    "%matplotlib inline\n",
    "\n",
    "ax = sns.relplot(x='total_bill', y='tip', hue='smoker', size='size', sizes=(15,200),\n",
    "            kind='scatter', data=tips)\n",
    "plt.title('Scatter plot example') "
   ]
  }
 ],
 "metadata": {
  "kernelspec": {
   "display_name": "Python 3",
   "language": "python",
   "name": "python3"
  },
  "language_info": {
   "codemirror_mode": {
    "name": "ipython",
    "version": 3
   },
   "file_extension": ".py",
   "mimetype": "text/x-python",
   "name": "python",
   "nbconvert_exporter": "python",
   "pygments_lexer": "ipython3",
   "version": "3.7.6"
  }
 },
 "nbformat": 4,
 "nbformat_minor": 4
}
