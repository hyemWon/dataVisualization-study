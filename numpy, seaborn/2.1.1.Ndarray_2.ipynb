{
 "cells": [
  {
   "cell_type": "code",
   "execution_count": 1,
   "metadata": {},
   "outputs": [
    {
     "name": "stdout",
     "output_type": "stream",
     "text": [
      "<np.ones((2,3))>\n",
      " [[1. 1. 1.]\n",
      " [1. 1. 1.]]\n",
      "<np.ones((2,3), dtype = int)>\n",
      " [[1 1 1]\n",
      " [1 1 1]]\n",
      "<np.ones_like(A))>\n",
      " [[1 1 1]\n",
      " [1 1 1]\n",
      " [1 1 1]]\n"
     ]
    }
   ],
   "source": [
    "import numpy as np\n",
    "\n",
    "print(\"<np.ones((2,3))>\\n\", np.ones((2,3)))\n",
    "print(\"<np.ones((2,3), dtype = int)>\\n\", np.ones((2,3), dtype = int))\n",
    "\n",
    "A = np.array([[1,2,3],[4,5,6],[7,8,9]])\n",
    "\n",
    "print(\"<np.ones_like(A))>\\n\", np.ones_like(A))"
   ]
  },
  {
   "cell_type": "code",
   "execution_count": null,
   "metadata": {},
   "outputs": [],
   "source": []
  }
 ],
 "metadata": {
  "kernelspec": {
   "display_name": "Python 3",
   "language": "python",
   "name": "python3"
  },
  "language_info": {
   "codemirror_mode": {
    "name": "ipython",
    "version": 3
   },
   "file_extension": ".py",
   "mimetype": "text/x-python",
   "name": "python",
   "nbconvert_exporter": "python",
   "pygments_lexer": "ipython3",
   "version": "3.7.6"
  }
 },
 "nbformat": 4,
 "nbformat_minor": 4
}
