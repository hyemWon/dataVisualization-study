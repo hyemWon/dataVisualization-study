{
 "cells": [
  {
   "cell_type": "code",
   "execution_count": null,
   "metadata": {},
   "outputs": [],
   "source": [
    "import numpy as np\n",
    "\n",
    "arr = np.arange(5)\n",
    "print(\"<arr>\", arr)\n",
    "\n",
    "print(\"<np.random.choice(arr, 2)>\\n\", np.random.choice(arr, 2))\n",
    "print(\"<np.random.choice(arr, 2, replace=False)>\\n\",\n",
    "        np.random.choice(arr, 2, replace=False))\n",
    "print(\"<np.random.choice(arr, 5, p=[0.1, 0.1, 0, 0.3, 0.5])>\\n\", \n",
    "        np.random.choice(arr, 5, p=[0.1, 0.1, 0, 0.3, 0.5]))"
   ]
  }
 ],
 "metadata": {
  "kernelspec": {
   "display_name": "Python 3",
   "language": "python",
   "name": "python3"
  },
  "language_info": {
   "codemirror_mode": {
    "name": "ipython",
    "version": 3
   },
   "file_extension": ".py",
   "mimetype": "text/x-python",
   "name": "python",
   "nbconvert_exporter": "python",
   "pygments_lexer": "ipython3",
   "version": "3.7.6"
  }
 },
 "nbformat": 4,
 "nbformat_minor": 4
}
