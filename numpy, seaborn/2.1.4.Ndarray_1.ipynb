{
 "cells": [
  {
   "cell_type": "code",
   "execution_count": null,
   "metadata": {},
   "outputs": [],
   "source": [
    "import numpy as np\n",
    "\n",
    "a = np.arange(6)\n",
    "b = np.arange(6).reshape(2,3)\n",
    "a[5] = 100\n",
    "\n",
    "print(\"<np.arange(6)>\\n\", a)\n",
    "print(\"<np.arange(6).reshape(2,3)>\\n\", b)\n",
    "print(\"<a[np.argmax(a)]>\\n\", a[np.argmax(a)])\n",
    "print(\"<np.argmax(b, axis = 0)>\\n\", np.argmax(b, axis = 0))\n",
    "print(\"<np.argmax(b, axis = 1)>\\n\", np.argmax(b, axis = 1))"
   ]
  }
 ],
 "metadata": {
  "kernelspec": {
   "display_name": "Python 3",
   "language": "python",
   "name": "python3"
  },
  "language_info": {
   "codemirror_mode": {
    "name": "ipython",
    "version": 3
   },
   "file_extension": ".py",
   "mimetype": "text/x-python",
   "name": "python",
   "nbconvert_exporter": "python",
   "pygments_lexer": "ipython3",
   "version": "3.7.6"
  }
 },
 "nbformat": 4,
 "nbformat_minor": 4
}
