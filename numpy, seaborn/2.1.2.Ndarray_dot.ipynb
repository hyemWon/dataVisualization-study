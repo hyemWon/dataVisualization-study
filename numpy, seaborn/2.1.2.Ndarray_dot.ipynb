{
 "cells": [
  {
   "cell_type": "code",
   "execution_count": 1,
   "metadata": {},
   "outputs": [
    {
     "name": "stdout",
     "output_type": "stream",
     "text": [
      "<np.dot(bb,cc)>\n",
      " 36\n",
      "<np.dot(xs,ys), type(np.dot(xs, ys)>\n",
      " [[17  1]\n",
      " [28  1]] <class 'numpy.ndarray'>\n"
     ]
    }
   ],
   "source": [
    "import numpy as np\n",
    "\n",
    "bb = np.array([1,2,3])\n",
    "cc = np.array([-7, 8, 9])\n",
    "print(\"<np.dot(bb,cc)>\\n\",np.dot(bb,cc))\n",
    "\n",
    "xs = np.array(((2, 3), (3, 5)))\n",
    "ys = np.array(((1, 2), (5, -1)))\n",
    "print(\"<np.dot(xs,ys), type(np.dot(xs, ys)>\\n\", np.dot(xs, ys), type(np.dot(xs, ys)))"
   ]
  },
  {
   "cell_type": "code",
   "execution_count": null,
   "metadata": {},
   "outputs": [],
   "source": []
  }
 ],
 "metadata": {
  "kernelspec": {
   "display_name": "Python 3",
   "language": "python",
   "name": "python3"
  },
  "language_info": {
   "codemirror_mode": {
    "name": "ipython",
    "version": 3
   },
   "file_extension": ".py",
   "mimetype": "text/x-python",
   "name": "python",
   "nbconvert_exporter": "python",
   "pygments_lexer": "ipython3",
   "version": "3.7.6"
  }
 },
 "nbformat": 4,
 "nbformat_minor": 4
}
