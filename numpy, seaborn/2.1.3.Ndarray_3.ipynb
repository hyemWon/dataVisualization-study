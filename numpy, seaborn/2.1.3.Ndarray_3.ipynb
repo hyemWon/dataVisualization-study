{
 "cells": [
  {
   "cell_type": "code",
   "execution_count": 1,
   "metadata": {},
   "outputs": [
    {
     "name": "stdout",
     "output_type": "stream",
     "text": [
      " index \n",
      "<arr.argmax()>\n",
      " 4\n",
      "<arg.argmin()>\n",
      " 0\n",
      "\n",
      " value \n",
      "<arr[arg.argmax()]>\n",
      " 49\n",
      "<arr[arg.argmin()]>\n",
      " 9\n",
      "<arr[np.argmax(arr)]\n",
      " 49\n",
      "<arr[np.argmin(arr)]\n",
      " 9\n"
     ]
    }
   ],
   "source": [
    "import numpy as np\n",
    "\n",
    "arr = np.array([9, 18, 29, 39, 49])\n",
    "\n",
    "print(\" index \")\n",
    "print(\"<arr.argmax()>\\n\", arr.argmax())\n",
    "print(\"<arg.argmin()>\\n\", arr.argmin())\n",
    "print()\n",
    "\n",
    "print(\" value \")\n",
    "print(\"<arr[arg.argmax()]>\\n\", arr[arr.argmax()])\n",
    "print(\"<arr[arg.argmin()]>\\n\", arr[arr.argmin()])\n",
    "\n",
    "print(\"<arr[np.argmax(arr)]\\n\", arr[np.argmax(arr)])\n",
    "print(\"<arr[np.argmin(arr)]\\n\", arr[np.argmin(arr)])"
   ]
  },
  {
   "cell_type": "code",
   "execution_count": null,
   "metadata": {},
   "outputs": [],
   "source": []
  }
 ],
 "metadata": {
  "kernelspec": {
   "display_name": "Python 3",
   "language": "python",
   "name": "python3"
  },
  "language_info": {
   "codemirror_mode": {
    "name": "ipython",
    "version": 3
   },
   "file_extension": ".py",
   "mimetype": "text/x-python",
   "name": "python",
   "nbconvert_exporter": "python",
   "pygments_lexer": "ipython3",
   "version": "3.7.6"
  }
 },
 "nbformat": 4,
 "nbformat_minor": 4
}
