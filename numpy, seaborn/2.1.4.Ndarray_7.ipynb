{
 "cells": [
  {
   "cell_type": "code",
   "execution_count": null,
   "metadata": {},
   "outputs": [],
   "source": [
    "import numpy as np\n",
    "\n",
    "a = np.arange(10).reshape(2,5)\n",
    "b = np.arange(10, 20).reshape(2,5)\n",
    "\n",
    "print(\"<a>\\n\",a)\n",
    "print(\"<b>\\n\", b)\n",
    "print(\"<np.vstack((a, b))>\\n\", np.vstack((a, b)))\n",
    "\n",
    "print(\"<np.concatenate((a,b), axis = 0)>\\n\", np.concatenate((a,b), axis = 0))"
   ]
  }
 ],
 "metadata": {
  "kernelspec": {
   "display_name": "Python 3",
   "language": "python",
   "name": "python3"
  },
  "language_info": {
   "codemirror_mode": {
    "name": "ipython",
    "version": 3
   },
   "file_extension": ".py",
   "mimetype": "text/x-python",
   "name": "python",
   "nbconvert_exporter": "python",
   "pygments_lexer": "ipython3",
   "version": "3.7.6"
  }
 },
 "nbformat": 4,
 "nbformat_minor": 4
}
