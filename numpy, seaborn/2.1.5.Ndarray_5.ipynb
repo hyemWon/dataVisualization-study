{
 "cells": [
  {
   "cell_type": "code",
   "execution_count": null,
   "metadata": {},
   "outputs": [],
   "source": [
    "import numpy as np\n",
    "\n",
    "arr = np.arange(10)\n",
    "\n",
    "print(\"<arr>\\n\", arr)\n",
    "\n",
    "np.random.shuffle(arr)\n",
    "print(\"<arr>\\n\", arr)\n",
    "\n",
    "arr2 = np.arange(9).reshape((3,3))\n",
    "print(\"<arr2>\\n\", arr2)\n",
    "np.random.shuffle(arr2)\n",
    "print(\"<arr2>\\n\", arr2)"
   ]
  }
 ],
 "metadata": {
  "kernelspec": {
   "display_name": "Python 3",
   "language": "python",
   "name": "python3"
  },
  "language_info": {
   "codemirror_mode": {
    "name": "ipython",
    "version": 3
   },
   "file_extension": ".py",
   "mimetype": "text/x-python",
   "name": "python",
   "nbconvert_exporter": "python",
   "pygments_lexer": "ipython3",
   "version": "3.7.6"
  }
 },
 "nbformat": 4,
 "nbformat_minor": 4
}
